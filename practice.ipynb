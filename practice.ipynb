{
 "cells": [
  {
   "cell_type": "code",
   "execution_count": 3,
   "metadata": {},
   "outputs": [],
   "source": [
    "from torchvision.models import get_model_weights, get_weight"
   ]
  },
  {
   "cell_type": "code",
   "execution_count": 4,
   "metadata": {},
   "outputs": [
    {
     "data": {
      "text/plain": [
       "MobileNet_V3_Large_QuantizedWeights.IMAGENET1K_QNNPACK_V1"
      ]
     },
     "execution_count": 4,
     "metadata": {},
     "output_type": "execute_result"
    }
   ],
   "source": [
    "weights = get_weight(\"MobileNet_V3_Large_QuantizedWeights.DEFAULT\")\n",
    "weights"
   ]
  },
  {
   "cell_type": "code",
   "execution_count": 5,
   "metadata": {},
   "outputs": [
    {
     "data": {
      "text/plain": [
       "<enum 'MobileNet_V3_Large_QuantizedWeights'>"
      ]
     },
     "execution_count": 5,
     "metadata": {},
     "output_type": "execute_result"
    }
   ],
   "source": [
    "weights_enum = get_model_weights(\"quantized_mobilenet_v3_large\")\n",
    "weights_enum"
   ]
  },
  {
   "cell_type": "code",
   "execution_count": 12,
   "metadata": {},
   "outputs": [
    {
     "name": "stderr",
     "output_type": "stream",
     "text": [
      "Downloading: \"https://download.pytorch.org/models/resnet50-0676ba61.pth\" to /home/KDT-admin/.cache/torch/hub/checkpoints/resnet50-0676ba61.pth\n",
      "100%|██████████| 97.8M/97.8M [00:00<00:00, 191MB/s] \n"
     ]
    },
    {
     "data": {
      "text/plain": [
       "2048"
      ]
     },
     "execution_count": 12,
     "metadata": {},
     "output_type": "execute_result"
    }
   ],
   "source": [
    "from torchvision import models\n",
    "model_ft = models.resnet34(weights='IMAGENET1K_V1')\n",
    "num_ftrs = model_ft.fc.in_features"
   ]
  },
  {
   "cell_type": "code",
   "execution_count": 13,
   "metadata": {},
   "outputs": [
    {
     "data": {
      "text/plain": [
       "4096"
      ]
     },
     "execution_count": 13,
     "metadata": {},
     "output_type": "execute_result"
    }
   ],
   "source": [
    "model_ft = models.alexnet(weights='IMAGENET1K_V1')\n",
    "num_ftrs = model_ft.classifier[6].in_features\n",
    "model_ft.classifier[6]"
   ]
  },
  {
   "cell_type": "code",
   "execution_count": 1,
   "metadata": {},
   "outputs": [
    {
     "name": "stdout",
     "output_type": "stream",
     "text": [
      "0.13.2\n"
     ]
    }
   ],
   "source": [
    "import seaborn as sns\n",
    "\n",
    "print(sns.__version__)"
   ]
  },
  {
   "cell_type": "code",
   "execution_count": 1,
   "metadata": {},
   "outputs": [
    {
     "data": {
      "text/plain": [
       "[1, 2, 3, 5, 6, 7]"
      ]
     },
     "execution_count": 1,
     "metadata": {},
     "output_type": "execute_result"
    }
   ],
   "source": [
    "list1 = [1, 2, 3]\n",
    "list2 = [5, 6, 7]\n",
    "\n",
    "list3 = list1 + list2\n",
    "\n",
    "list3"
   ]
  },
  {
   "cell_type": "code",
   "execution_count": 3,
   "metadata": {},
   "outputs": [],
   "source": [
    "emotion = [0, 0,0,0]\n",
    "accuracies = [0, 0,0,0]\n"
   ]
  },
  {
   "cell_type": "code",
   "execution_count": 2,
   "metadata": {},
   "outputs": [],
   "source": [
    "from espnet_model_zoo.downloader import ModelDownloader"
   ]
  },
  {
   "cell_type": "code",
   "execution_count": 9,
   "metadata": {},
   "outputs": [],
   "source": [
    "import pandas as pd\n",
    "\n",
    "v_tst_df = pd.read_csv(\"/home/KDT-admin/data_2000/labels/v_tst_df.csv\")\n",
    "row_index = v_tst_df.index[v_tst_df[\"file_name\"] == \"image1362.jpg\"].tolist()[0]\n",
    "v_tst_df.loc[row_index, \"file_name\"] = \"image13262.jpg\"\n",
    "v_tst_df.to_csv(\"v_tst_df_updated.csv\", index=False)\n"
   ]
  },
  {
   "cell_type": "code",
   "execution_count": 1,
   "metadata": {},
   "outputs": [],
   "source": [
    "import pandas as pd\n",
    "df = pd.read_csv('/home/KDT-admin/data/test_set1000/labels/js_all.csv')"
   ]
  },
  {
   "cell_type": "code",
   "execution_count": 3,
   "metadata": {},
   "outputs": [],
   "source": [
    "df.rename(columns={'filename': 'file_name'}, inplace=True)"
   ]
  },
  {
   "cell_type": "code",
   "execution_count": 5,
   "metadata": {},
   "outputs": [],
   "source": [
    "df.to_csv('/home/KDT-admin/data/test_set1000/labels/js_all_updated.csv', index=False)"
   ]
  },
  {
   "cell_type": "code",
   "execution_count": 6,
   "metadata": {},
   "outputs": [
    {
     "data": {
      "text/plain": [
       "['df58c033a04f7678edf7b2c375b2f57f1cfb2988296535b660de9f1468fffce9_여_30_상처_도심 환경_20210204132900-008-012.jpg',\n",
       " 'df62cbb8881ee439441fe4d67a7ce2440f2349559ecbf5fbf0d700ae2b10ff60_남_20_슬픔_실외 자연환경_20210202083229-007-002.jpg',\n",
       " 'df58c033a04f7678edf7b2c375b2f57f1cfb2988296535b660de9f1468fffce9_여_30_상처_상업시설&점포&시장_20210204132812-003-003.jpg',\n",
       " 'dfc02b14400e9fcaec446cf4eeee7d7131a714d579c59ce60883423caec73cdf_여_20_분노_숙박 및 거주공간_20201207133649-010-019.jpg',\n",
       " 'df62cbb8881ee439441fe4d67a7ce2440f2349559ecbf5fbf0d700ae2b10ff60_남_20_중립_숙박 및 거주공간_20210202084805-010-003.jpg',\n",
       " 'dfc02b14400e9fcaec446cf4eeee7d7131a714d579c59ce60883423caec73cdf_여_20_분노_스포츠 관람 및 레저시설_20201207133535-004-011.jpg',\n",
       " 'df58c033a04f7678edf7b2c375b2f57f1cfb2988296535b660de9f1468fffce9_여_30_상처_숙박 및 거주공간_20210204132920-010-009.jpg',\n",
       " 'dfc02b14400e9fcaec446cf4eeee7d7131a714d579c59ce60883423caec73cdf_여_20_기쁨_스포츠 관람 및 레저시설_20201207134508-004-003.jpg',\n",
       " 'de6d23fe62808d9e7e3e324d94db6cffefba6994f935aa630c0826801d6f8f6d_여_20_불안_교통&이동수단(엘리베이터 포함)_20210122215618-002-002.jpg',\n",
       " 'df62cbb8881ee439441fe4d67a7ce2440f2349559ecbf5fbf0d700ae2b10ff60_남_20_슬픔_상업시설&점포&시장_20210202083206-003-006.jpg',\n",
       " 'dfd696a801c027606a934835ab480c8c10f36e9b3ca1073947150b40f62454e0_여_20_당황_도심 환경_20201207175827-008-007.jpg',\n",
       " 'dfc02b14400e9fcaec446cf4eeee7d7131a714d579c59ce60883423caec73cdf_여_20_분노_숙박 및 거주공간_20201207133649-010-013.jpg',\n",
       " 'dfc02b14400e9fcaec446cf4eeee7d7131a714d579c59ce60883423caec73cdf_여_20_기쁨_행사&사무공간_20201207134530-006-002.jpg',\n",
       " 'dfd696a801c027606a934835ab480c8c10f36e9b3ca1073947150b40f62454e0_여_20_당황_도심 환경_20201207175827-008-006.jpg',\n",
       " 'de6d23fe62808d9e7e3e324d94db6cffefba6994f935aa630c0826801d6f8f6d_여_20_불안_도심 환경_20210122215727-008-009.jpg',\n",
       " 'dfc02b14400e9fcaec446cf4eeee7d7131a714d579c59ce60883423caec73cdf_여_20_슬픔_교통&이동수단(엘리베이터 포함)_20201207133726-002-007.jpg',\n",
       " 'dfd696a801c027606a934835ab480c8c10f36e9b3ca1073947150b40f62454e0_여_20_당황_교통&이동수단(엘리베이터 포함)_20201207175758-002-007.jpg',\n",
       " 'dfc02b14400e9fcaec446cf4eeee7d7131a714d579c59ce60883423caec73cdf_여_20_기쁨_오락&공연시설_20201207134518-005-002.jpg',\n",
       " 'de6d23fe62808d9e7e3e324d94db6cffefba6994f935aa630c0826801d6f8f6d_여_20_불안_공공시설&종교&의료시설_20210122215611-001-005.jpg',\n",
       " 'df62cbb8881ee439441fe4d67a7ce2440f2349559ecbf5fbf0d700ae2b10ff60_남_20_중립_상업시설&점포&시장_20210202084724-003-006.jpg',\n",
       " 'df62cbb8881ee439441fe4d67a7ce2440f2349559ecbf5fbf0d700ae2b10ff60_남_20_중립_도심 환경_20210202084753-008-006.jpg']"
      ]
     },
     "execution_count": 6,
     "metadata": {},
     "output_type": "execute_result"
    }
   ],
   "source": [
    "import os\n",
    "li1 = os.listdir('/home/KDT-admin/data/sample_test_data')\n"
   ]
  },
  {
   "cell_type": "code",
   "execution_count": 9,
   "metadata": {},
   "outputs": [],
   "source": [
    "sample_df= df[df['file_name'].isin(li1)]\n",
    "sample_df.to_csv('/home/KDT-admin/data/sample_test_data/sample_df.csv', index=False)\n"
   ]
  },
  {
   "cell_type": "code",
   "execution_count": 13,
   "metadata": {},
   "outputs": [],
   "source": [
    "import pickle\n"
   ]
  },
  {
   "cell_type": "code",
   "execution_count": 16,
   "metadata": {},
   "outputs": [
    {
     "data": {
      "text/plain": [
       "['config.py', 'config copy.py']"
      ]
     },
     "execution_count": 16,
     "metadata": {},
     "output_type": "execute_result"
    }
   ],
   "source": [
    "import os\n",
    "cfg_list = os.listdir('/home/KDT-admin/work/bonghoon/EST_wassup01_TEAM__4/config')\n",
    "cfg_list"
   ]
  },
  {
   "cell_type": "code",
   "execution_count": 17,
   "metadata": {},
   "outputs": [
    {
     "data": {
      "text/plain": [
       "2"
      ]
     },
     "execution_count": 17,
     "metadata": {},
     "output_type": "execute_result"
    }
   ],
   "source": [
    "len(cfg_list)"
   ]
  },
  {
   "cell_type": "code",
   "execution_count": 1,
   "metadata": {},
   "outputs": [
    {
     "data": {
      "text/html": [
       "<div>\n",
       "<style scoped>\n",
       "    .dataframe tbody tr th:only-of-type {\n",
       "        vertical-align: middle;\n",
       "    }\n",
       "\n",
       "    .dataframe tbody tr th {\n",
       "        vertical-align: top;\n",
       "    }\n",
       "\n",
       "    .dataframe thead th {\n",
       "        text-align: right;\n",
       "    }\n",
       "</style>\n",
       "<table border=\"1\" class=\"dataframe\">\n",
       "  <thead>\n",
       "    <tr style=\"text-align: right;\">\n",
       "      <th></th>\n",
       "      <th>training_mode</th>\n",
       "      <th>model_num</th>\n",
       "      <th>optim</th>\n",
       "      <th>image(EA)</th>\n",
       "      <th>freeze</th>\n",
       "      <th>epochs</th>\n",
       "      <th>batch</th>\n",
       "      <th>lr</th>\n",
       "      <th>weight_decay</th>\n",
       "      <th>PNG_NAME</th>\n",
       "      <th>final_epoch</th>\n",
       "      <th>Tst_acc</th>\n",
       "      <th>Max_acc</th>\n",
       "      <th>Max_idx</th>\n",
       "      <th>trn_loss</th>\n",
       "      <th>tst_loss</th>\n",
       "      <th>Min loss</th>\n",
       "      <th>Min idx</th>\n",
       "    </tr>\n",
       "  </thead>\n",
       "  <tbody>\n",
       "  </tbody>\n",
       "</table>\n",
       "</div>"
      ],
      "text/plain": [
       "Empty DataFrame\n",
       "Columns: [training_mode, model_num, optim, image(EA), freeze, epochs, batch, lr, weight_decay, PNG_NAME, final_epoch, Tst_acc, Max_acc, Max_idx, trn_loss, tst_loss, Min loss, Min idx]\n",
       "Index: []"
      ]
     },
     "execution_count": 1,
     "metadata": {},
     "output_type": "execute_result"
    }
   ],
   "source": [
    "import pandas as pd\n",
    "columns = ['training_mode', 'model_num', 'optim', 'image(EA)', 'freeze', 'epochs', 'batch','lr','weight_decay','PNG_NAME', 'final_epoch', 'Tst_acc', 'Max_acc', 'Max_idx', 'trn_loss', 'tst_loss', 'Min loss', 'Min idx']\n",
    "    \n",
    "df = pd.DataFrame(columns=columns)\n",
    "df"
   ]
  },
  {
   "cell_type": "code",
   "execution_count": 7,
   "metadata": {},
   "outputs": [
    {
     "data": {
      "text/plain": [
       "\"<class 'torch.optim.adamw.AdamW'>\""
      ]
     },
     "execution_count": 7,
     "metadata": {},
     "output_type": "execute_result"
    }
   ],
   "source": [
    "import torch\n",
    "\n",
    "hh = str(torch.optim.AdamW)\n",
    "\n",
    "hh"
   ]
  },
  {
   "cell_type": "code",
   "execution_count": 10,
   "metadata": {},
   "outputs": [
    {
     "data": {
      "text/plain": [
       "'21011003'"
      ]
     },
     "execution_count": 10,
     "metadata": {},
     "output_type": "execute_result"
    }
   ],
   "source": [
    "from datetime import datetime\n",
    "import pytz\n",
    "now = datetime.now(pytz.timezone('Asia/Seoul')).strftime(\"%d%H%M%S\")\n",
    "now"
   ]
  },
  {
   "cell_type": "code",
   "execution_count": 3,
   "metadata": {},
   "outputs": [
    {
     "ename": "AttributeError",
     "evalue": "'DataFrame' object has no attribute 'append'",
     "output_type": "error",
     "traceback": [
      "\u001b[0;31m---------------------------------------------------------------------------\u001b[0m",
      "\u001b[0;31mAttributeError\u001b[0m                            Traceback (most recent call last)",
      "\u001b[0;32m/tmp/ipykernel_1743437/3001220621.py\u001b[0m in \u001b[0;36m?\u001b[0;34m()\u001b[0m\n\u001b[0;32m---> 13\u001b[0;31m \u001b[0;32mimport\u001b[0m \u001b[0mpandas\u001b[0m \u001b[0;32mas\u001b[0m \u001b[0mpd\u001b[0m\u001b[0;34m\u001b[0m\u001b[0;34m\u001b[0m\u001b[0m\n\u001b[0m\u001b[1;32m     14\u001b[0m \u001b[0;34m\u001b[0m\u001b[0m\n\u001b[1;32m     15\u001b[0m \u001b[0mdf\u001b[0m \u001b[0;34m=\u001b[0m \u001b[0mpd\u001b[0m\u001b[0;34m.\u001b[0m\u001b[0mDataFrame\u001b[0m\u001b[0;34m(\u001b[0m\u001b[0;34m)\u001b[0m\u001b[0;34m\u001b[0m\u001b[0;34m\u001b[0m\u001b[0m\n\u001b[1;32m     16\u001b[0m \u001b[0mcolumns\u001b[0m \u001b[0;34m=\u001b[0m \u001b[0;34m[\u001b[0m\u001b[0;34m'training_mode'\u001b[0m\u001b[0;34m,\u001b[0m \u001b[0;34m'image(EA)'\u001b[0m\u001b[0;34m,\u001b[0m \u001b[0;34m'freeze'\u001b[0m\u001b[0;34m,\u001b[0m \u001b[0;34m'epochs'\u001b[0m\u001b[0;34m]\u001b[0m\u001b[0;34m\u001b[0m\u001b[0;34m\u001b[0m\u001b[0m\n",
      "\u001b[0;32m~/miniconda3/envs/bonghoon/lib/python3.8/site-packages/pandas/core/generic.py\u001b[0m in \u001b[0;36m?\u001b[0;34m(self, name)\u001b[0m\n\u001b[1;32m   5985\u001b[0m             \u001b[0;32mand\u001b[0m \u001b[0mname\u001b[0m \u001b[0;32mnot\u001b[0m \u001b[0;32min\u001b[0m \u001b[0mself\u001b[0m\u001b[0;34m.\u001b[0m\u001b[0m_accessors\u001b[0m\u001b[0;34m\u001b[0m\u001b[0;34m\u001b[0m\u001b[0m\n\u001b[1;32m   5986\u001b[0m             \u001b[0;32mand\u001b[0m \u001b[0mself\u001b[0m\u001b[0;34m.\u001b[0m\u001b[0m_info_axis\u001b[0m\u001b[0;34m.\u001b[0m\u001b[0m_can_hold_identifiers_and_holds_name\u001b[0m\u001b[0;34m(\u001b[0m\u001b[0mname\u001b[0m\u001b[0;34m)\u001b[0m\u001b[0;34m\u001b[0m\u001b[0;34m\u001b[0m\u001b[0m\n\u001b[1;32m   5987\u001b[0m         ):\n\u001b[1;32m   5988\u001b[0m             \u001b[0;32mreturn\u001b[0m \u001b[0mself\u001b[0m\u001b[0;34m[\u001b[0m\u001b[0mname\u001b[0m\u001b[0;34m]\u001b[0m\u001b[0;34m\u001b[0m\u001b[0;34m\u001b[0m\u001b[0m\n\u001b[0;32m-> 5989\u001b[0;31m         \u001b[0;32mreturn\u001b[0m \u001b[0mobject\u001b[0m\u001b[0;34m.\u001b[0m\u001b[0m__getattribute__\u001b[0m\u001b[0;34m(\u001b[0m\u001b[0mself\u001b[0m\u001b[0;34m,\u001b[0m \u001b[0mname\u001b[0m\u001b[0;34m)\u001b[0m\u001b[0;34m\u001b[0m\u001b[0;34m\u001b[0m\u001b[0m\n\u001b[0m",
      "\u001b[0;31mAttributeError\u001b[0m: 'DataFrame' object has no attribute 'append'"
     ]
    }
   ],
   "source": [
    "import pandas as pd\n",
    "\n",
    "df = pd.DataFrame()\n",
    "columns = ['training_mode', 'image(EA)', 'freeze', 'epochs']\n",
    "\n",
    "new_data = {\n",
    "    \"training_mode\": \"train\",\n",
    "    \"image(EA)\": \"image13262.jpg\",\n",
    "    \"freeze\": \"False\",\n",
    "    \"epochs\": \"100\"\n",
    "}\n",
    "\n",
    "df.append(new_data, ignore_index=True)\n",
    "\n",
    "df"
   ]
  },
  {
   "cell_type": "code",
   "execution_count": 2,
   "metadata": {},
   "outputs": [
    {
     "data": {
      "text/plain": [
       "['config copy 10.py',\n",
       " 'config copy 2.py',\n",
       " 'config copy 3.py',\n",
       " 'config copy 4.py',\n",
       " 'config copy 5.py',\n",
       " 'config copy 6.py',\n",
       " 'config copy 7.py',\n",
       " 'config copy 8.py',\n",
       " 'config copy 9.py',\n",
       " 'config copy.py',\n",
       " 'config.py']"
      ]
     },
     "execution_count": 2,
     "metadata": {},
     "output_type": "execute_result"
    }
   ],
   "source": [
    "import os\n",
    "\n"
   ]
  },
  {
   "cell_type": "code",
   "execution_count": 3,
   "metadata": {},
   "outputs": [
    {
     "ename": "AttributeError",
     "evalue": "module 'numpy' has no attribute '__version__'",
     "output_type": "error",
     "traceback": [
      "\u001b[0;31m---------------------------------------------------------------------------\u001b[0m",
      "\u001b[0;31mAttributeError\u001b[0m                            Traceback (most recent call last)",
      "Cell \u001b[0;32mIn[3], line 3\u001b[0m\n\u001b[1;32m      1\u001b[0m \u001b[39mimport\u001b[39;00m \u001b[39mnumpy\u001b[39;00m \u001b[39mas\u001b[39;00m \u001b[39mnp\u001b[39;00m\n\u001b[0;32m----> 3\u001b[0m \u001b[39mprint\u001b[39m(np\u001b[39m.\u001b[39;49m__version__)\n",
      "\u001b[0;31mAttributeError\u001b[0m: module 'numpy' has no attribute '__version__'"
     ]
    }
   ],
   "source": [
    "import numpy as np\n",
    "\n",
    "print(np.__version__)"
   ]
  },
  {
   "cell_type": "code",
   "execution_count": 3,
   "metadata": {},
   "outputs": [
    {
     "data": {
      "text/plain": [
       "\"'JP' IS AN INVALID TARGET LANGUAGE . EXAMPLE: LANGPAIR=EN|IT USING 2 LETTER ISO OR RFC3066 LIKE ZH-CN. ALMOST ALL LANGUAGES SUPPORTED BUT SOME MAY HAVE NO CONTENT\""
      ]
     },
     "execution_count": 3,
     "metadata": {},
     "output_type": "execute_result"
    }
   ],
   "source": [
    "from translate import Translator\n",
    "\n",
    "translator = Translator(from_lang=\"ko\", to_lang='jp')\n",
    "translation = translator.translate(\"시계 토끼\")\n",
    "translation"
   ]
  },
  {
   "cell_type": "code",
   "execution_count": 5,
   "metadata": {},
   "outputs": [],
   "source": [
    "from google_trans_new import google_translator\n"
   ]
  },
  {
   "cell_type": "code",
   "execution_count": 9,
   "metadata": {},
   "outputs": [],
   "source": [
    "from gtts import gTTS\n",
    "\n",
    "text =\"hello my name is elice?\"\n",
    "tts_ko = gTTS(text=text, lang='en')\n",
    "tts_ko.save(\"gTTS.wav\")"
   ]
  }
 ],
 "metadata": {
  "kernelspec": {
   "display_name": "bh",
   "language": "python",
   "name": "python3"
  },
  "language_info": {
   "codemirror_mode": {
    "name": "ipython",
    "version": 3
   },
   "file_extension": ".py",
   "mimetype": "text/x-python",
   "name": "python",
   "nbconvert_exporter": "python",
   "pygments_lexer": "ipython3",
   "version": "3.8.18"
  },
  "orig_nbformat": 4
 },
 "nbformat": 4,
 "nbformat_minor": 2
}
